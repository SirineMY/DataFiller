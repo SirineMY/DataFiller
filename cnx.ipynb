{
 "cells": [
  {
   "cell_type": "code",
   "execution_count": 1,
   "id": "afaf8a01-e86d-454f-81ed-52c29dc260fa",
   "metadata": {},
   "outputs": [
    {
     "name": "stderr",
     "output_type": "stream",
     "text": [
      "C:\\Users\\utilisateur\\AppData\\Local\\Temp\\ipykernel_17760\\677555699.py:3: DeprecationWarning: \n",
      "Pyarrow will become a required dependency of pandas in the next major release of pandas (pandas 3.0),\n",
      "(to allow more performant data types, such as the Arrow string type, and better interoperability with other libraries)\n",
      "but was not found to be installed on your system.\n",
      "If this would cause problems for you,\n",
      "please provide us feedback at https://github.com/pandas-dev/pandas/issues/54466\n",
      "        \n",
      "  import pandas as pd\n"
     ]
    }
   ],
   "source": [
    "import mysql.connector\n",
    "from sqlalchemy import create_engine\n",
    "import pandas as pd\n",
    "import os\n"
   ]
  },
  {
   "cell_type": "code",
   "execution_count": 2,
   "id": "38a62259-eb9b-403b-8676-e00047b5b9b1",
   "metadata": {},
   "outputs": [],
   "source": [
    "data = pd.read_csv('data/data.csv')\n",
    "# Chemin vers le dossier contenant les fichiers CSV\n",
    "chemin_dossier_csv = 'data'"
   ]
  },
  {
   "cell_type": "code",
   "execution_count": 3,
   "id": "d62f2dab-6724-4be3-868f-da82eb04c3b5",
   "metadata": {},
   "outputs": [],
   "source": [
    "# Listez tous les fichiers CSV dans le dossier\n",
    "fichiers_csv = [f for f in os.listdir(chemin_dossier_csv) if f.endswith('.csv')]\n",
    "\n"
   ]
  },
  {
   "cell_type": "code",
   "execution_count": 4,
   "id": "daecbf5e-b868-417e-839c-b20a4363dff8",
   "metadata": {},
   "outputs": [],
   "source": [
    "user = 'root'\n",
    "password = ''\n",
    "host = 'localhost'\n",
    "database = 'e1'\n"
   ]
  },
  {
   "cell_type": "code",
   "execution_count": 5,
   "id": "e2bffc36-1f3a-46e1-80c6-0c0022ad8f4a",
   "metadata": {},
   "outputs": [],
   "source": [
    "\n",
    "# try:\n",
    "#     conn = mysql.connector.connect(user=user, password=password, host=host, database=database)\n",
    "#     cursor = conn.cursor()\n",
    "#     # Bouclez sur chaque fichier CSV et importez-le dans la base de données MySQL\n",
    "#     for fichier_csv in fichiers_csv:\n",
    "#         # Lire le fichier CSV dans un DataFrame\n",
    "#         dataframe = pd.read_csv(os.path.join(chemin_dossier_csv, fichier_csv))\n",
    "        \n",
    "#         # Nom de la table sera le nom du fichier CSV sans l'extension\n",
    "#         nom_table = os.path.splitext(fichier_csv)[0]\n",
    "        \n",
    "#         # Importer le DataFrame dans la base de données MySQL\n",
    "#         dataframe.to_sql(name=nom_table, con=conn, if_exists='replace', index=False)\n",
    "# except mysql.connector.Error as e:\n",
    "#     print(f\"Error: {e}\")\n",
    "# finally:\n",
    "#     if conn.is_connected():\n",
    "#         cursor.close()\n",
    "#         conn.close()\n"
   ]
  },
  {
   "cell_type": "code",
   "execution_count": 6,
   "id": "82c66d25-9421-4aff-ac95-5ca86916aa17",
   "metadata": {},
   "outputs": [
    {
     "name": "stdout",
     "output_type": "stream",
     "text": [
      "Successfully connected to the database\n"
     ]
    }
   ],
   "source": [
    "# Creating SQLAlchemy Engine for pandas.to_sql\n",
    "engine = create_engine(f'mysql+mysqlconnector://{user}:{password}@{host}/{database}')\n",
    "\n",
    "# Connection using mysql.connector for other operations\n",
    "conn = None\n",
    "try:\n",
    "    conn = mysql.connector.connect(user=user, password=password, host=host, database=database)\n",
    "    cursor = conn.cursor()\n",
    "    print(\"Successfully connected to the database\")\n",
    "except mysql.connector.Error as e:\n",
    "    print(f\"Error connecting to MySQL: {e}\")\n"
   ]
  },
  {
   "cell_type": "code",
   "execution_count": 9,
   "id": "a454724b-55fa-4655-b482-a905cd21f267",
   "metadata": {},
   "outputs": [],
   "source": [
    "\n",
    "\n",
    "# Loop through each CSV file and import it into the MySQL database\n",
    "for fichier_csv in fichiers_csv:\n",
    "    # Read the CSV file into a DataFrame\n",
    "    dataframe = pd.read_csv(os.path.join(chemin_dossier_csv, fichier_csv))\n",
    "    \n",
    "    # The table name will be the CSV file name without the extension\n",
    "    nom_table = os.path.splitext(fichier_csv)[0]\n",
    "    \n",
    "    # Import the DataFrame into the MySQL database\n",
    "    dataframe.to_sql(name=nom_table, con=engine, if_exists='replace', index=False)\n",
    "\n",
    "# Closing connection if it was successfully established\n",
    "if conn and conn.is_connected():\n",
    "    cursor.close()\n",
    "    conn.close()\n",
    "\n"
   ]
  },
  {
   "cell_type": "code",
   "execution_count": 6,
   "id": "34ec9bbd-b1d1-4105-8542-13a8f0252bbf",
   "metadata": {},
   "outputs": [
    {
     "name": "stderr",
     "output_type": "stream",
     "text": [
      "'mysql.server' n'est pas reconnu en tant que commande interne\n",
      "ou externe, un programme ex�cutable ou un fichier de commandes.\n"
     ]
    }
   ],
   "source": []
  },
  {
   "cell_type": "code",
   "execution_count": null,
   "id": "11f44fb7-469d-4110-888c-0a1e2e32327f",
   "metadata": {},
   "outputs": [],
   "source": []
  }
 ],
 "metadata": {
  "kernelspec": {
   "display_name": "Python 3 (ipykernel)",
   "language": "python",
   "name": "python3"
  },
  "language_info": {
   "codemirror_mode": {
    "name": "ipython",
    "version": 3
   },
   "file_extension": ".py",
   "mimetype": "text/x-python",
   "name": "python",
   "nbconvert_exporter": "python",
   "pygments_lexer": "ipython3",
   "version": "3.9.0"
  }
 },
 "nbformat": 4,
 "nbformat_minor": 5
}
