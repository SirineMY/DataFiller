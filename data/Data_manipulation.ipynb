{
 "cells": [
  {
   "cell_type": "code",
   "execution_count": 2,
   "metadata": {},
   "outputs": [],
   "source": [
    "import pandas as pd, numpy as np\n",
    "import random\n",
    "import re"
   ]
  },
  {
   "cell_type": "code",
   "execution_count": 5,
   "metadata": {},
   "outputs": [
    {
     "name": "stdout",
     "output_type": "stream",
     "text": [
      "Unnamed: 0                   int32\n",
      "Title                       object\n",
      "location                    object\n",
      "Posting_date                object\n",
      "DESCRIPTION                 object\n",
      "BASIC QUALIFICATIONS        object\n",
      "PREFERRED QUALIFICATIONS    object\n",
      "dtype: object\n"
     ]
    }
   ],
   "source": [
    "dtype = {\n",
    "    'Unnamed: 0': 'int',\n",
    "    'Title': 'str',\n",
    "    'location': 'str',\n",
    "    'Posting_date': 'str',\n",
    "    'DESCRIPTION': 'str',\n",
    "    'BASIC QUALIFICATIONS': 'str',\n",
    "    'PREFERRED QUALIFICATIONS': 'str'\n",
    "}\n",
    "\n",
    "# Importez la data avec les types de données spécifiés\n",
    "amazon_jobs_dataset = pd.read_csv('amazon_jobs_dataset.csv', dtype=dtype)\n",
    "\n",
    "# Vérifiez les types de données importés\n",
    "print(amazon_jobs_dataset.dtypes)"
   ]
  },
  {
   "cell_type": "code",
   "execution_count": 6,
   "metadata": {},
   "outputs": [
    {
     "data": {
      "text/plain": [
       "Title                       object\n",
       "location                    object\n",
       "Posting_date                object\n",
       "DESCRIPTION                 object\n",
       "BASIC QUALIFICATIONS        object\n",
       "PREFERRED QUALIFICATIONS    object\n",
       "dtype: object"
      ]
     },
     "execution_count": 6,
     "metadata": {},
     "output_type": "execute_result"
    }
   ],
   "source": [
    "amazon_jobs_dataset = amazon_jobs_dataset.drop(amazon_jobs_dataset.columns[0], axis=1)\n",
    "amazon_jobs_dataset.dtypes"
   ]
  },
  {
   "cell_type": "code",
   "execution_count": 7,
   "metadata": {},
   "outputs": [],
   "source": [
    "# Créez une fonction de nettoyage pour convertir les valeurs en str et supprimer les caractères indésirables\n",
    "def nettoyer_donnees(data):\n",
    "    for colonne in data.columns:\n",
    "        if data[colonne].dtype == 'object':\n",
    "            # Supprimer les caractères spéciaux\n",
    "            data[colonne] = data[colonne].apply(lambda x: re.sub(r'[{}\\'\"]', '', str(x)))\n",
    "    \n",
    "    # Convertir toutes les colonnes en str\n",
    "    data = data.applymap(lambda x: str(x) if not isinstance(x, str) else x)\n",
    "    \n",
    "    return data\n",
    "\n",
    "new_data = nettoyer_donnees(amazon_jobs_dataset)"
   ]
  },
  {
   "cell_type": "code",
   "execution_count": 8,
   "metadata": {},
   "outputs": [
    {
     "data": {
      "text/plain": [
       "Title                       object\n",
       "location                    object\n",
       "Posting_date                object\n",
       "DESCRIPTION                 object\n",
       "BASIC QUALIFICATIONS        object\n",
       "PREFERRED QUALIFICATIONS    object\n",
       "dtype: object"
      ]
     },
     "execution_count": 8,
     "metadata": {},
     "output_type": "execute_result"
    }
   ],
   "source": [
    "new_data.dtypes"
   ]
  },
  {
   "cell_type": "code",
   "execution_count": 9,
   "metadata": {},
   "outputs": [],
   "source": [
    "\n",
    "def effacer_contenu(data, proportion):\n",
    "    for colonne in data.columns:\n",
    "        if data[colonne].dtype == 'object':\n",
    "            # Déterminer le nombre de cellules à vider en fonction de la proportion\n",
    "            nombre_lignes = len(data)\n",
    "            nombre_a_vider = int(proportion * nombre_lignes)\n",
    "\n",
    "            # Générer des indices de lignes aléatoires à vider\n",
    "            indices_a_vider = random.sample(range(nombre_lignes), nombre_a_vider)\n",
    "\n",
    "            # Effacer le contenu des cellules aléatoires dans la colonne\n",
    "            data[colonne] = data[colonne].astype(str)\n",
    "            data.loc[indices_a_vider, colonne] = None\n",
    "    return data\n"
   ]
  },
  {
   "cell_type": "code",
   "execution_count": 10,
   "metadata": {},
   "outputs": [],
   "source": [
    "# Utilisation de la fonction pour effacer aléatoirement le contenu\n",
    "proportion_a_vider = 0.2  # pour vider 20% des cellules\n",
    "\n",
    "\n",
    "# Créer un nouveau DataFrame avec le contenu modifié\n",
    "amazon_dataset_20 = effacer_contenu(new_data, proportion_a_vider)\n"
   ]
  },
  {
   "cell_type": "code",
   "execution_count": 11,
   "metadata": {},
   "outputs": [
    {
     "name": "stdout",
     "output_type": "stream",
     "text": [
      "<class 'pandas.core.frame.DataFrame'>\n",
      "RangeIndex: 3493 entries, 0 to 3492\n",
      "Data columns (total 6 columns):\n",
      " #   Column                    Non-Null Count  Dtype \n",
      "---  ------                    --------------  ----- \n",
      " 0   Title                     2795 non-null   object\n",
      " 1   location                  2795 non-null   object\n",
      " 2   Posting_date              2795 non-null   object\n",
      " 3   DESCRIPTION               2795 non-null   object\n",
      " 4   BASIC QUALIFICATIONS      2795 non-null   object\n",
      " 5   PREFERRED QUALIFICATIONS  2795 non-null   object\n",
      "dtypes: object(6)\n",
      "memory usage: 163.9+ KB\n"
     ]
    }
   ],
   "source": [
    "amazon_dataset_20.info()"
   ]
  },
  {
   "cell_type": "code",
   "execution_count": 12,
   "metadata": {},
   "outputs": [],
   "source": [
    "# Enregistrer le DataFrame en tant que fichier CSV\n",
    "nom_fichier_csv = \"amazon_dataset-20.csv\"\n",
    "amazon_dataset_20.to_csv(nom_fichier_csv, index=False) \n"
   ]
  },
  {
   "cell_type": "code",
   "execution_count": 13,
   "metadata": {},
   "outputs": [],
   "source": [
    "#préparer le train data  \n",
    "amazon_train_dataset = amazon_dataset_20[~amazon_dataset_20.isnull().any(axis=1)]"
   ]
  },
  {
   "cell_type": "code",
   "execution_count": 14,
   "metadata": {},
   "outputs": [
    {
     "data": {
      "text/html": [
       "<div>\n",
       "<style scoped>\n",
       "    .dataframe tbody tr th:only-of-type {\n",
       "        vertical-align: middle;\n",
       "    }\n",
       "\n",
       "    .dataframe tbody tr th {\n",
       "        vertical-align: top;\n",
       "    }\n",
       "\n",
       "    .dataframe thead th {\n",
       "        text-align: right;\n",
       "    }\n",
       "</style>\n",
       "<table border=\"1\" class=\"dataframe\">\n",
       "  <thead>\n",
       "    <tr style=\"text-align: right;\">\n",
       "      <th></th>\n",
       "      <th>Title</th>\n",
       "      <th>location</th>\n",
       "      <th>Posting_date</th>\n",
       "      <th>DESCRIPTION</th>\n",
       "      <th>BASIC QUALIFICATIONS</th>\n",
       "      <th>PREFERRED QUALIFICATIONS</th>\n",
       "    </tr>\n",
       "  </thead>\n",
       "  <tbody>\n",
       "    <tr>\n",
       "      <th>2</th>\n",
       "      <td>Software Development Engineer</td>\n",
       "      <td>IN, KA, Bangalore</td>\n",
       "      <td>March  1, 2018</td>\n",
       "      <td>Amazon is driven by being “the world’s most cu...</td>\n",
       "      <td>· Bachelor’s Degree in Computer Science or rel...</td>\n",
       "      <td>· Experience building complex software systems...</td>\n",
       "    </tr>\n",
       "    <tr>\n",
       "      <th>4</th>\n",
       "      <td>Software Development Engineer - Amazon Lex</td>\n",
       "      <td>US, WA, Seattle</td>\n",
       "      <td>March  1, 2018</td>\n",
       "      <td>Have you ever wondered what it takes to build ...</td>\n",
       "      <td>· Bachelors Degree in Computer Science or a re...</td>\n",
       "      <td>· Masters or PhD in Computer Science· Experien...</td>\n",
       "    </tr>\n",
       "    <tr>\n",
       "      <th>5</th>\n",
       "      <td>Software Development Engineer - Amazon Lex</td>\n",
       "      <td>US, WA, Seattle</td>\n",
       "      <td>March  1, 2018</td>\n",
       "      <td>Have you ever wondered what it takes to build ...</td>\n",
       "      <td>· Bachelors Degree in Computer Science or a re...</td>\n",
       "      <td>· Masters or PhD in Computer Science· Experien...</td>\n",
       "    </tr>\n",
       "    <tr>\n",
       "      <th>9</th>\n",
       "      <td>Software Development Manager - Amazon Cloud Cam</td>\n",
       "      <td>US, CA, Cupertino</td>\n",
       "      <td>March  1, 2018</td>\n",
       "      <td>The Amazon Devices team designs and engineers ...</td>\n",
       "      <td>· Bachelor’s Degree in Computer Science or rel...</td>\n",
       "      <td>· Master’s degree in Computer Science or relat...</td>\n",
       "    </tr>\n",
       "    <tr>\n",
       "      <th>15</th>\n",
       "      <td>UI Developer</td>\n",
       "      <td>US, WA, Seattle</td>\n",
       "      <td>February 28, 2018</td>\n",
       "      <td>How can we build talent pipelines to support A...</td>\n",
       "      <td>· Bachelors Degree in Computer Science or a re...</td>\n",
       "      <td>· Familiarity with R and Shiny web framework· ...</td>\n",
       "    </tr>\n",
       "    <tr>\n",
       "      <th>...</th>\n",
       "      <td>...</td>\n",
       "      <td>...</td>\n",
       "      <td>...</td>\n",
       "      <td>...</td>\n",
       "      <td>...</td>\n",
       "      <td>...</td>\n",
       "    </tr>\n",
       "    <tr>\n",
       "      <th>3484</th>\n",
       "      <td>Amazon Kindle Software Engineer</td>\n",
       "      <td>US, WA, Seattle</td>\n",
       "      <td>November 19, 2012</td>\n",
       "      <td>The Amazon Kindle team is coming to Tel Aviv, ...</td>\n",
       "      <td>· BS or higher degree in Computer Science or a...</td>\n",
       "      <td>· Should be very interested in writing lots of...</td>\n",
       "    </tr>\n",
       "    <tr>\n",
       "      <th>3486</th>\n",
       "      <td>Software Development Engineer II</td>\n",
       "      <td>CA, BC, Vancouver</td>\n",
       "      <td>October 21, 2012</td>\n",
       "      <td>Come be part of a team that will shape and inf...</td>\n",
       "      <td>· Bachelor’s Degree in Computer Science or rel...</td>\n",
       "      <td>All applicants must meet the basic qualificati...</td>\n",
       "    </tr>\n",
       "    <tr>\n",
       "      <th>3488</th>\n",
       "      <td>Software Engineer</td>\n",
       "      <td>US, NV, Las Vegas</td>\n",
       "      <td>August 29, 2012</td>\n",
       "      <td>What are you currently doing? We’re building a...</td>\n",
       "      <td>· 5+ years production Java software developmen...</td>\n",
       "      <td>· 7+ years Java software development in a prod...</td>\n",
       "    </tr>\n",
       "    <tr>\n",
       "      <th>3489</th>\n",
       "      <td>Software Development Engineer</td>\n",
       "      <td>US, WA, Seattle</td>\n",
       "      <td>April 23, 2012</td>\n",
       "      <td>At Amazon Voice and Advanced Natural Shopping ...</td>\n",
       "      <td>* Bachelor’s Degree in Computer Science or rel...</td>\n",
       "      <td>* Experience building complex software systems...</td>\n",
       "    </tr>\n",
       "    <tr>\n",
       "      <th>3492</th>\n",
       "      <td>Software Development Engineer in Test</td>\n",
       "      <td>US, WA, Seattle</td>\n",
       "      <td>July  7, 2011</td>\n",
       "      <td>Kindle and Amazon are impacting the world with...</td>\n",
       "      <td>· Bachelor’s degree in Computer Science, Compu...</td>\n",
       "      <td>· Experience with open source tools and resour...</td>\n",
       "    </tr>\n",
       "  </tbody>\n",
       "</table>\n",
       "<p>937 rows × 6 columns</p>\n",
       "</div>"
      ],
      "text/plain": [
       "                                                 Title            location  \\\n",
       "2                        Software Development Engineer  IN, KA, Bangalore    \n",
       "4           Software Development Engineer - Amazon Lex    US, WA, Seattle    \n",
       "5           Software Development Engineer - Amazon Lex    US, WA, Seattle    \n",
       "9      Software Development Manager - Amazon Cloud Cam  US, CA, Cupertino    \n",
       "15                                       UI Developer     US, WA, Seattle    \n",
       "...                                                ...                 ...   \n",
       "3484                   Amazon Kindle Software Engineer    US, WA, Seattle    \n",
       "3486                  Software Development Engineer II  CA, BC, Vancouver    \n",
       "3488                                 Software Engineer  US, NV, Las Vegas    \n",
       "3489                     Software Development Engineer    US, WA, Seattle    \n",
       "3492             Software Development Engineer in Test    US, WA, Seattle    \n",
       "\n",
       "           Posting_date                                        DESCRIPTION  \\\n",
       "2        March  1, 2018  Amazon is driven by being “the world’s most cu...   \n",
       "4        March  1, 2018  Have you ever wondered what it takes to build ...   \n",
       "5        March  1, 2018  Have you ever wondered what it takes to build ...   \n",
       "9        March  1, 2018  The Amazon Devices team designs and engineers ...   \n",
       "15    February 28, 2018  How can we build talent pipelines to support A...   \n",
       "...                 ...                                                ...   \n",
       "3484  November 19, 2012  The Amazon Kindle team is coming to Tel Aviv, ...   \n",
       "3486   October 21, 2012  Come be part of a team that will shape and inf...   \n",
       "3488    August 29, 2012  What are you currently doing? We’re building a...   \n",
       "3489     April 23, 2012  At Amazon Voice and Advanced Natural Shopping ...   \n",
       "3492      July  7, 2011  Kindle and Amazon are impacting the world with...   \n",
       "\n",
       "                                   BASIC QUALIFICATIONS  \\\n",
       "2     · Bachelor’s Degree in Computer Science or rel...   \n",
       "4     · Bachelors Degree in Computer Science or a re...   \n",
       "5     · Bachelors Degree in Computer Science or a re...   \n",
       "9     · Bachelor’s Degree in Computer Science or rel...   \n",
       "15    · Bachelors Degree in Computer Science or a re...   \n",
       "...                                                 ...   \n",
       "3484  · BS or higher degree in Computer Science or a...   \n",
       "3486  · Bachelor’s Degree in Computer Science or rel...   \n",
       "3488  · 5+ years production Java software developmen...   \n",
       "3489  * Bachelor’s Degree in Computer Science or rel...   \n",
       "3492  · Bachelor’s degree in Computer Science, Compu...   \n",
       "\n",
       "                               PREFERRED QUALIFICATIONS  \n",
       "2     · Experience building complex software systems...  \n",
       "4     · Masters or PhD in Computer Science· Experien...  \n",
       "5     · Masters or PhD in Computer Science· Experien...  \n",
       "9     · Master’s degree in Computer Science or relat...  \n",
       "15    · Familiarity with R and Shiny web framework· ...  \n",
       "...                                                 ...  \n",
       "3484  · Should be very interested in writing lots of...  \n",
       "3486  All applicants must meet the basic qualificati...  \n",
       "3488  · 7+ years Java software development in a prod...  \n",
       "3489  * Experience building complex software systems...  \n",
       "3492  · Experience with open source tools and resour...  \n",
       "\n",
       "[937 rows x 6 columns]"
      ]
     },
     "execution_count": 14,
     "metadata": {},
     "output_type": "execute_result"
    }
   ],
   "source": [
    "amazon_train_dataset"
   ]
  },
  {
   "cell_type": "code",
   "execution_count": 15,
   "metadata": {},
   "outputs": [
    {
     "name": "stdout",
     "output_type": "stream",
     "text": [
      "<class 'pandas.core.frame.DataFrame'>\n",
      "Int64Index: 937 entries, 2 to 3492\n",
      "Data columns (total 6 columns):\n",
      " #   Column                    Non-Null Count  Dtype \n",
      "---  ------                    --------------  ----- \n",
      " 0   Title                     937 non-null    object\n",
      " 1   location                  937 non-null    object\n",
      " 2   Posting_date              937 non-null    object\n",
      " 3   DESCRIPTION               937 non-null    object\n",
      " 4   BASIC QUALIFICATIONS      937 non-null    object\n",
      " 5   PREFERRED QUALIFICATIONS  937 non-null    object\n",
      "dtypes: object(6)\n",
      "memory usage: 51.2+ KB\n"
     ]
    }
   ],
   "source": [
    "amazon_train_dataset.info()"
   ]
  },
  {
   "cell_type": "code",
   "execution_count": 16,
   "metadata": {},
   "outputs": [],
   "source": [
    "# Enregistrer le train DataFrame en tant que fichier CSV\n",
    "nom_fichier_csv = \"train_dataset.csv\"\n",
    "amazon_train_dataset.to_csv(nom_fichier_csv, index=False) \n"
   ]
  },
  {
   "cell_type": "code",
   "execution_count": null,
   "metadata": {},
   "outputs": [],
   "source": []
  }
 ],
 "metadata": {
  "kernelspec": {
   "display_name": "base",
   "language": "python",
   "name": "python3"
  },
  "language_info": {
   "codemirror_mode": {
    "name": "ipython",
    "version": 3
   },
   "file_extension": ".py",
   "mimetype": "text/x-python",
   "name": "python",
   "nbconvert_exporter": "python",
   "pygments_lexer": "ipython3",
   "version": "3.9.17"
  }
 },
 "nbformat": 4,
 "nbformat_minor": 2
}
