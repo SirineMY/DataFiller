{
 "cells": [
  {
   "cell_type": "code",
   "execution_count": null,
   "id": "9d2fdeb9-d6e9-409c-8b80-097c391e06b1",
   "metadata": {},
   "outputs": [],
   "source": [
    "from sklearn.neighbors import KNeighborsRegressor\n",
    "from sklearn.model_selection import train_test_split\n",
    "import numpy as np\n",
    "import pandas as pd\n",
    "\n",
    "\n"
   ]
  },
  {
   "cell_type": "code",
   "execution_count": null,
   "id": "4173332a-ea38-446a-8d5c-6b31c0e6320b",
   "metadata": {},
   "outputs": [],
   "source": [
    "# Supposons que `df` soit votre DataFrame et 'feature_to_impute' la caractéristique à imputer\n",
    "feature_to_impute = 'your_feature_name'\n",
    "features = df.columns.drop(feature_to_impute)\n"
   ]
  },
  {
   "cell_type": "code",
   "execution_count": null,
   "id": "ab02825b-570d-4f3a-ab77-1fe413084f3b",
   "metadata": {},
   "outputs": [],
   "source": [
    "# Séparer les données en observations avec et sans valeurs manquantes pour la caractéristique cible\n",
    "train_data = df.dropna(subset=[feature_to_impute])\n",
    "missing_data = df[df[feature_to_impute].isnull()]\n",
    "\n"
   ]
  },
  {
   "cell_type": "code",
   "execution_count": null,
   "id": "a65a2e1d-ac99-4f62-9ceb-2e97bdaba720",
   "metadata": {},
   "outputs": [],
   "source": [
    "X_train = train_data[features]\n",
    "y_train = train_data[feature_to_impute]\n",
    "X_missing = missing_data[features]\n"
   ]
  },
  {
   "cell_type": "code",
   "execution_count": null,
   "id": "b60f563d-ee4d-498c-a085-c19185af6848",
   "metadata": {},
   "outputs": [],
   "source": [
    "\n",
    "# Entraîner un modèle KNN sur les données non manquantes\n",
    "model = KNeighborsRegressor(n_neighbors=5)  # Vous pouvez ajuster n_neighbors selon vos besoins\n",
    "model.fit(X_train, y_train)\n"
   ]
  },
  {
   "cell_type": "code",
   "execution_count": null,
   "id": "9d2e4f57-01a0-4dd6-b0d6-186ffe2769bd",
   "metadata": {},
   "outputs": [],
   "source": [
    "\n",
    "# Prédire les valeurs manquantes\n",
    "predicted_values = model.predict(X_missing)\n",
    "\n",
    "# Remplacer les valeurs manquantes dans le DataFrame original\n",
    "df.loc[df[feature_to_impute].isnull(), feature_to_impute] = predicted_values\n"
   ]
  }
 ],
 "metadata": {
  "kernelspec": {
   "display_name": "Python 3 (ipykernel)",
   "language": "python",
   "name": "python3"
  },
  "language_info": {
   "codemirror_mode": {
    "name": "ipython",
    "version": 3
   },
   "file_extension": ".py",
   "mimetype": "text/x-python",
   "name": "python",
   "nbconvert_exporter": "python",
   "pygments_lexer": "ipython3",
   "version": "3.9.0"
  }
 },
 "nbformat": 4,
 "nbformat_minor": 5
}
